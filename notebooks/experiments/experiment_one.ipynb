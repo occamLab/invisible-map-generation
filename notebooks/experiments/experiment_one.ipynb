{
 "cells": [
  {
   "cell_type": "markdown",
   "metadata": {},
   "source": [
    "# Experiment One\n",
    "## Experiment Overview\n",
    "The purpose of this experiment is to assess the quality of Invisible Map's backend optimization and test certain hypotheses as to assumptions made on its performance in a controlled environment. This controlled environment was made by generating data sets for testing, rather than using purely real-world data. This allows us to know the position of odometry nodes and tag positions with 100% confidence, while also sweeping through potential error sources to analyze the correlation between input variance and output error. The hypothesis is that an input variance should directly correlate to the corresponding output error. For example, generating a data set with significant odometry variance should lead to an optimal map with relatively high confidence in tag detections and relatively low confidence in odometry.\n",
    "\n",
    "This experiment will be conducted for three different data sets and two main optimizer workflows. The three data sets will vary in size, one small data set, one medium-sized data set, and one large data set to determine any impact the map size has on input-output correlations. The two main optimizer workflows are with Sparse Bundle Adjustment and no Sparse Bundle Adjustment. \n",
    "\n",
    "## Initialization\n",
    "Run the following code cell once and only once before execution of any other tests. This will establish the correct working directory for other scripts to be called and define the names of each data set."
   ]
  },
  {
   "cell_type": "code",
   "execution_count": 1,
   "metadata": {},
   "outputs": [
    {
     "name": "stdout",
     "output_type": "stream",
     "text": [
      "/home/ayush/Documents/invisible-map-generation\n"
     ]
    }
   ],
   "source": [
    "small_data_set_name=\"robolab_straight_on*\"\n",
    "medium_data_set_name=\"\"\n",
    "large_data_set_name=\"\"\n",
    "%cd ../.."
   ]
  },
  {
   "cell_type": "markdown",
   "metadata": {},
   "source": [
    "## Perfect Data\n",
    "The first iteration of this experiment assesses the optimization's performance when given perfect data with no conflicting constraints. If the backend is performing correctly, the ground truth metric for each test in this iteration should approach 0 as the inputted map has a ground truth metric of 0.\n",
    "\n",
    "### Small Dataset + SBA\n",
    "Run the following command to generate a dataset with no conflicting constraints."
   ]
  },
  {
   "cell_type": "code",
   "execution_count": null,
   "metadata": {},
   "outputs": [],
   "source": [
    "!python3 run_scripts/generate_datasets.py -p d --d_p $small_data_set_name"
   ]
  },
  {
   "cell_type": "markdown",
   "metadata": {},
   "source": [
    "Once generated, input the full name of the generated dataset into the variable, generated_small_data_set, below."
   ]
  },
  {
   "cell_type": "code",
   "execution_count": 4,
   "metadata": {},
   "outputs": [
    {
     "name": "stdout",
     "output_type": "stream",
     "text": [
      "Generating list of optimization sweeping parameters...\n",
      "100 parameters generated for sweeping\n",
      "Starting multi-process optimization parameter sweep (with 8 processes)...\n",
      "100%|█████████████████████████████████████████| 100/100 [01:58<00:00,  1.19s/it]\n",
      "4.783814586793542e-06\n",
      "Pre-Optimization GT: 4.794463017513545e-06\n",
      "Best GT: 4.783814586793542e-06 (delta: -1.064843072000265e-08\n",
      "Best Alpha: -214366.89758117896\n",
      "\n",
      " \n",
      "COMPARISION: index for min gt (1) vs index for min alpha: (1)\n",
      "Parameters (GT):\n",
      "{\n",
      "  \"lin_vel_var\": 1e-10,\n",
      "  \"ang_vel_var\": 1.6681005372000556e-09\n",
      "}\n",
      "Parameters (Alpha):\n",
      "{\n",
      "  \"lin_vel_var\": 1e-10,\n",
      "  \"ang_vel_var\": 1.6681005372000556e-09\n",
      "}\n",
      "\n",
      " \n",
      "For map based on min alpha, \n",
      "     GT: 4.783814586793542e-06 (delta = -1.064843072000265e-08)\n",
      "For map based on min gt, \n",
      "    GT: 4.783814586793542e-06 (delta = -1.064843072000265e-08)\n",
      "\n",
      " \n",
      "Fitness metrics (GT): \n",
      ">        chi2_all_before: 5.4e+12\n",
      ">       alpha_all_before: 2.7e+12\n",
      "> se3_not_gravity_before: 5.4e+12\n",
      ">          psi2uv_before: 0\n",
      ">         gravity_before: 2.6e-12\n",
      "----------------------------------\n",
      ">         chi2_all_after: 4e-05\n",
      ">        alpha_all_after: -2.1e+05\n",
      ">  se3_not_gravity_after: 4e-05\n",
      ">           psi2uv_after: 0\n",
      ">          gravity_after: 4.7e-12\n",
      "\n",
      "Fitness metrics (Alpha): \n",
      ">        chi2_all_before: 5.4e+12\n",
      ">       alpha_all_before: 2.7e+12\n",
      "> se3_not_gravity_before: 5.4e+12\n",
      ">          psi2uv_before: 0\n",
      ">         gravity_before: 2.6e-12\n",
      "----------------------------------\n",
      ">         chi2_all_after: 4e-05\n",
      ">        alpha_all_after: -2.1e+05\n",
      ">  se3_not_gravity_after: 4e-05\n",
      ">           psi2uv_after: 0\n",
      ">          gravity_after: 4.7e-12\n",
      "\n",
      " \n",
      "Rotation metric (GT): [1.85353442e-07 2.02007880e-07 1.10813157e-08]\n",
      "Maximum rotation (GT): [1.05452775e-06 7.86354436e-07 5.35069377e-08] (tag id: 316.0)\n",
      "Rotation metric (Alpha): [1.85353442e-07 2.02007880e-07 1.10813157e-08]\n",
      "Maximum rotation (Alpha): [1.05452775e-06 7.86354436e-07 5.35069377e-08] (tag id: 316.0)\n",
      "Figure(640x480)\n"
     ]
    }
   ],
   "source": [
    "generated_small_data_set='generated_22-09-23-02-07-18*'\n",
    "!python3 run_scripts/optimize_graphs_and_manage_cache.py -g -s -v --pso 1 --np 8 -p $generated_small_data_set"
   ]
  }
 ],
 "metadata": {
  "kernelspec": {
   "display_name": "Python 3.8.10 64-bit",
   "language": "python",
   "name": "python3"
  },
  "language_info": {
   "codemirror_mode": {
    "name": "ipython",
    "version": 3
   },
   "file_extension": ".py",
   "mimetype": "text/x-python",
   "name": "python",
   "nbconvert_exporter": "python",
   "pygments_lexer": "ipython3",
   "version": "3.8.10"
  },
  "orig_nbformat": 4,
  "vscode": {
   "interpreter": {
    "hash": "916dbcbb3f70747c44a77c7bcd40155683ae19c65e1c03b4aa3499c5328201f1"
   }
  }
 },
 "nbformat": 4,
 "nbformat_minor": 2
}
