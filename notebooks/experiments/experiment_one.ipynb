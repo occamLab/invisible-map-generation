{
 "cells": [
  {
   "cell_type": "markdown",
   "metadata": {},
   "source": [
    "# Experiment One\n",
    "## Experiment Overview\n",
    "The purpose of this experiment is to assess the quality of Invisible Map's backend optimization and test certain hypotheses as to assumptions made on its performance in a controlled environment. This controlled environment was made by generating data sets for testing, rather than using purely real-world data. This allows us to know the position of odometry nodes and tag positions with 100% confidence, while also sweeping through potential error sources to analyze the correlation between input variance and output error. The hypothesis is that an input variance should directly correlate to the corresponding output error. For example, generating a data set with significant odometry variance should lead to an optimal map with relatively high confidence in tag detections and relatively low confidence in odometry.\n",
    "\n",
    "This experiment will be conducted for three different data sets and two main optimizer workflows. The three data sets will vary in size, one small data set, one medium-sized data set, and one large data set to determine any impact the map size has on input-output correlations. The two main optimizer workflows are with Sparse Bundle Adjustment and no Sparse Bundle Adjustment. \n",
    "\n",
    "## Initialization\n",
    "Run the following code cell once and only once before execution of any other tests. This will establish the correct working directory for other scripts to be called and define the names of each data set."
   ]
  },
  {
   "cell_type": "code",
   "execution_count": 1,
   "metadata": {},
   "outputs": [
    {
     "name": "stdout",
     "output_type": "stream",
     "text": [
      "/home/ayush/Documents/invisible-map-generation\n"
     ]
    }
   ],
   "source": [
    "small_data_set_name=\"robolab_straight_on*\"\n",
    "medium_data_set_name=\"\"\n",
    "large_data_set_name=\"\"\n",
    "%cd ../.."
   ]
  },
  {
   "cell_type": "markdown",
   "metadata": {},
   "source": [
    "## Perfect Data\n",
    "The first iteration of this experiment assesses the optimization's performance when given perfect data with no conflicting constraints. If the backend is performing correctly, the ground truth metric for each test in this iteration should approach 0 as the inputted map has a ground truth metric of 0.\n",
    "\n",
    "### Small Dataset + SBA\n",
    "Run the following command to generate a dataset with no conflicting constraints."
   ]
  },
  {
   "cell_type": "code",
   "execution_count": null,
   "metadata": {},
   "outputs": [],
   "source": [
    "!python3 run_scripts/generate_datasets.py -p d --d_p $small_data_set_name"
   ]
  },
  {
   "cell_type": "markdown",
   "metadata": {},
   "source": [
    "Once generated, input the full name of the generated dataset into the variable, generated_small_data_set, below."
   ]
  },
  {
   "cell_type": "code",
   "execution_count": 13,
   "metadata": {},
   "outputs": [
    {
     "name": "stdout",
     "output_type": "stream",
     "text": [
      "/home/ayush/Documents/invisible-map-generation/map_processing/../.cache/generated\n",
      "['/home/ayush/Documents/invisible-map-generation/map_processing/../.cache/generated']\n",
      "/home/ayush/Documents/invisible-map-generation/map_processing/../.cache/generated\n",
      "No matches for generated_22-09-23-02-07-18* in recursive search of /home/ayush/Documents/invisible-map-generation/map_processing/../.cache\n"
     ]
    }
   ],
   "source": [
    "generated_small_data_set='generated_22-09-23-02-07-18*'\n",
    "!python3 run_scripts/optimize_graphs_and_manage_cache.py -g -s -v --pso 1 --np 8 -p $generated_small_data_set"
   ]
  }
 ],
 "metadata": {
  "kernelspec": {
   "display_name": "Python 3.8.10 64-bit",
   "language": "python",
   "name": "python3"
  },
  "language_info": {
   "codemirror_mode": {
    "name": "ipython",
    "version": 3
   },
   "file_extension": ".py",
   "mimetype": "text/x-python",
   "name": "python",
   "nbconvert_exporter": "python",
   "pygments_lexer": "ipython3",
   "version": "3.8.10"
  },
  "orig_nbformat": 4,
  "vscode": {
   "interpreter": {
    "hash": "916dbcbb3f70747c44a77c7bcd40155683ae19c65e1c03b4aa3499c5328201f1"
   }
  }
 },
 "nbformat": 4,
 "nbformat_minor": 2
}
