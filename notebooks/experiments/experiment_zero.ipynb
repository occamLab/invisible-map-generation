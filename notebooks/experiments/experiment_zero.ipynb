{
 "cells": [
  {
   "cell_type": "markdown",
   "metadata": {},
   "source": [
    "# Experiment Zero\n",
    "## Experiment Overview\n",
    "The purpose of this experiment is to understand the correlation between the primary evaluation metric (ground truth metric) and noise present in data. In order to test this, simulated data is generated and noise is inputted, both in terms of tag positions as well as pose data. The hypothesis is that higher noise should correlate to a higher ground truth metric, and vice versa.\n",
    "\n",
    "Ground truth metric is an error evaluation metric that provides the average Euclidean distance between the predicted positions of the tags and their actual positions (ground truth) for each tag in the dataset.\n",
    "\n",
    "Simulated data sets can be either derived from a parametric path or from a real data set. Here, to generate a parametric path that specifies the position of the simulated phone as a function of time, a hard-coded set of tag poses must be provided, and the phone orientation is obtained via a (rotated) Frenet frame computed using a discrete derivative of the path.\n",
    "\n",
    "This experiment will be conducted for \n",
    "\n",
    "## Initialization\n",
    "\n",
    "Run the following code cell once and only once before executing other tests. This will ensure the correct working directory is set and initialize necessary variables."
   ]
  },
  {
   "cell_type": "code",
   "execution_count": 2,
   "metadata": {},
   "outputs": [
    {
     "name": "stdout",
     "output_type": "stream",
     "text": [
      "/home/rdave/invisible-map-generation\n"
     ]
    }
   ],
   "source": [
    "%cd ../.."
   ]
  },
  {
   "cell_type": "markdown",
   "metadata": {},
   "source": [
    "## No Noise\n",
    "\n",
    "The first iteration of this experiment checks that data simulation is working correctly and ensures that, given no noise inserted into the path, the ground truth metric is 0. "
   ]
  },
  {
   "cell_type": "markdown",
   "metadata": {},
   "source": []
  }
 ],
 "metadata": {
  "kernelspec": {
   "display_name": "Python 3.8.10 64-bit",
   "language": "python",
   "name": "python3"
  },
  "language_info": {
   "codemirror_mode": {
    "name": "ipython",
    "version": 3
   },
   "file_extension": ".py",
   "mimetype": "text/x-python",
   "name": "python",
   "nbconvert_exporter": "python",
   "pygments_lexer": "ipython3",
   "version": "3.8.10"
  },
  "orig_nbformat": 4,
  "vscode": {
   "interpreter": {
    "hash": "916dbcbb3f70747c44a77c7bcd40155683ae19c65e1c03b4aa3499c5328201f1"
   }
  }
 },
 "nbformat": 4,
 "nbformat_minor": 2
}
