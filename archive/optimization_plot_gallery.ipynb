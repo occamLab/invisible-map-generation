{
 "cells": [
  {
   "cell_type": "markdown",
   "source": [
    "NOTE: This notebook contains some out of date information with respect to construction of the weight vectors.\n",
    "# TODO: update this notebook"
   ],
   "metadata": {
    "collapsed": false,
    "pycharm": {
     "name": "#%% md\n"
    }
   }
  },
  {
   "cell_type": "code",
   "execution_count": 4,
   "outputs": [],
   "source": [
    "from map_processing.graph_manager import GraphManager\n",
    "from map_processing.cache_manager import CacheManagerSingleton\n",
    "from map_processing import PrescalingOptEnum\n",
    "from firebase_admin import credentials"
   ],
   "metadata": {
    "collapsed": false,
    "pycharm": {
     "name": "#%%\n"
    }
   }
  },
  {
   "cell_type": "markdown",
   "metadata": {
    "pycharm": {
     "name": "#%% md\n"
    }
   },
   "source": [
    "The `GraphManager` class implements the capabilities for this comparison routine (with dependencies to other code in this repository) along with capabilities for result visualization, data caching, and more. In addition to configuring the weight vector that is applied uniformly to all edges, the class also serves as a wrapper for the optimizer configuration of whether vertices connecting odometry to edge vertices use prescaling based on covariance calculations from the tag observations or whether sparse bundle adjustment (SBA) is used for tag vertex observations. The covariance method essentially acts bundle adjustment due to how the covariance matrix is calculated in the InvisibleMapCreator app. Therefore, in both cases, the objective function becomes a function of pixel units rather than Euclidean space. The weight parameters apply differently between these two cases, so the comparison routine is run for each configuration.\n",
    "\n",
    "Each weight vector is of the form\n",
    "\n",
    "$$\\mathbf{w}_i = [a, b, c, d, e, f, g, h, i, j, k, l, m, n, o, p, q, r]^\\intercal$$\n",
    "\n",
    "where:\n",
    "\n",
    "* Values $a$-$f$ are used for weighting the translation and rotation of odometry nodes.\n",
    "* Values $g$-$h$ are used for weighting the pixel coordinates of tags and are only used for SBA optimization.\n",
    "* Values $i$-$l$ are used for weighting the tag observations when covariance-based prescaling is used (i.e., non-SBA optimization).\n",
    "* Values $m$-$r$ are used for weighting the translation and rotation of dummy nodes (\"dummy nodes\" being nodes that are used to enforce the optimization to respect the direction of gravity as reported by the phone).\n",
    "\n",
    "The weight vectors comprising $W$ are included in Section 5.\n",
    "\n",
    "The following list serves as a reference for mapping the details described in Section 3.2 to code:\n",
    "\n",
    "* The comparison routine is invoked by invoking the `GraphManager.process_maps` instance method with the `compare` keyword argument as `True`.\n",
    "* The tag fixing is prescribed by the `fix_tag_vertices` keyword argument to the `as_graph` class method.\n",
    "* The weight vectors $\\mathbf{w}_i$ are sourced from the list in the `GraphManager._comparison_graph1_subgraph_weights` class attribute. The default weight vector is prescribed by the `weights_specifier` keyword argument to the `GraphManager` constructor.\n",
    "\n",
    "For the `optimization_weight` parameter:\n",
    "\n",
    "* `0` - sensible_default_weights\n",
    "\n",
    "```python\n",
    "np.array([\n",
    "    -6., -6., -6., -6., -6., -6.,\n",
    "    18, 18, 0, 0, 0, 0,\n",
    "    0., 0., 0., -1, 1e2, -1\n",
    "])\n",
    "```\n",
    "\n",
    "* `1` - trust_odom\n",
    "\n",
    "```python\n",
    "np.array([\n",
    "    -3., -3., -3., -3., -3., -3.,\n",
    "    10.6, 10.6, 10.6, 10.6, 10.6, 10.6,\n",
    "    0., 0., 0., -1, -1, 1e2\n",
    "]),\n",
    "```\n",
    "\n",
    "* `2` - trust_tags\n",
    "\n",
    "```python\n",
    "np.array([\n",
    "    10, 10, 10, 10, 10, 10,\n",
    "    -10.6, -10.6, -10.6, -10.6, -10.6, -10.6,\n",
    "    0, 0, 0, -1e2, 3, 3\n",
    "]),\n",
    "```\n",
    "\n",
    "* `3` - new_option\n",
    "\n",
    "```python\n",
    "np.array([\n",
    "    -6., -6., -6., -6., -6., -6.,\n",
    "    1, 1, 0, 0, 0, 0,\n",
    "    0., 0., 0., -1, 1e2, -1\n",
    "])\n",
    "```\n",
    "\n",
    "The weights are provided to the graph object (an instance of the `Graph` class) in the `GraphManager.optimize_graph` instance method; in the `Graph` object, the weights are then stored in the `Edge` objects' information attribute as  diagonal matrices created from weight vectors (see the `Graph.update_edge_information` instance method). Note that the weights are applied as a negated exponent:\n",
    "\n",
    "$$\\text{Edge}_\\text{information} = \\text{Diag}\\left(e^{-\\text{weights}}\\right)$$\n",
    "\n",
    "where $\\text{Diag}$ represents the `np.diag` function. Therefore, low weight values correspond to high importance, and vice versa."
   ]
  },
  {
   "cell_type": "code",
   "execution_count": 5,
   "metadata": {
    "pycharm": {
     "name": "#%%\n"
    }
   },
   "outputs": [],
   "source": [
    "optimization_weight = 0\n",
    "\n",
    "# 0: Sparse bundle adjustment\n",
    "# 1: Tag prescaling uses the full covariance matrix\n",
    "# 2: Tag prescaling uses only the covariance matrix diagonal\n",
    "# 3: Identity prescaling (tag prescaling is a matrix of ones)\n",
    "prescaling_opt = 0\n",
    "\n",
    "# If true, then download and cache the unprocessed maps from Firebase\n",
    "refresh_cache = False\n",
    "\n",
    "# JSON files in the cache that match this pattern are loaded by the GraphManager\n",
    "map_pattern = \"unprocessed_maps/**/*duncan*\"\n",
    "\n",
    "# Show plots if true\n",
    "visualize = True\n",
    "\n",
    "# Location of Firebase credentials\n",
    "credentials_loc = \"/home/duncan/.secret/invisible-map-firebase-adminsdk-s924m-de6e08b695.json\"\n",
    "\n",
    "# Set up the graph manager\n",
    "cred = credentials.Certificate(credentials_loc)\n",
    "\n",
    "cms = CacheManagerSingleton(cred)\n",
    "if refresh_cache:\n",
    "    cms.download_all_maps()\n",
    "\n",
    "graph_manager = GraphManager(optimization_weight, cms, prescaling_opt)\n"
   ]
  },
  {
   "cell_type": "markdown",
   "metadata": {
    "pycharm": {
     "name": "#%% md\n"
    }
   },
   "source": [
    "### Comparative Graph Optimization\n",
    "\n",
    "#### SBA\n",
    "\n",
    "##### Default weights"
   ]
  },
  {
   "cell_type": "code",
   "execution_count": 6,
   "metadata": {
    "pycharm": {
     "name": "#%%\n"
    }
   },
   "outputs": [
    {
     "ename": "AttributeError",
     "evalue": "'NoneType' object has no attribute 'find_maps'",
     "output_type": "error",
     "traceback": [
      "\u001B[0;31m---------------------------------------------------------------------------\u001B[0m",
      "\u001B[0;31mAttributeError\u001B[0m                            Traceback (most recent call last)",
      "\u001B[0;32m<ipython-input-6-28790725675d>\u001B[0m in \u001B[0;36m<module>\u001B[0;34m\u001B[0m\n\u001B[1;32m      1\u001B[0m \u001B[0mgraph_manager\u001B[0m\u001B[0;34m.\u001B[0m\u001B[0mpso\u001B[0m \u001B[0;34m=\u001B[0m \u001B[0mPrescalingOptEnum\u001B[0m\u001B[0;34m.\u001B[0m\u001B[0mUSE_SBA\u001B[0m\u001B[0;34m\u001B[0m\u001B[0;34m\u001B[0m\u001B[0m\n\u001B[1;32m      2\u001B[0m \u001B[0mgraph_manager\u001B[0m\u001B[0;34m.\u001B[0m\u001B[0mselected_weights\u001B[0m \u001B[0;34m=\u001B[0m \u001B[0;36m0\u001B[0m\u001B[0;34m\u001B[0m\u001B[0;34m\u001B[0m\u001B[0m\n\u001B[0;32m----> 3\u001B[0;31m \u001B[0mgraph_manager\u001B[0m\u001B[0;34m.\u001B[0m\u001B[0mprocess_maps\u001B[0m\u001B[0;34m(\u001B[0m\u001B[0mmap_pattern\u001B[0m\u001B[0;34m,\u001B[0m \u001B[0mvisualize\u001B[0m\u001B[0;34m=\u001B[0m\u001B[0mvisualize\u001B[0m\u001B[0;34m,\u001B[0m \u001B[0mcompare\u001B[0m\u001B[0;34m=\u001B[0m\u001B[0;32mTrue\u001B[0m\u001B[0;34m)\u001B[0m\u001B[0;34m\u001B[0m\u001B[0;34m\u001B[0m\u001B[0m\n\u001B[0m\u001B[1;32m      4\u001B[0m \u001B[0;34m\u001B[0m\u001B[0m\n",
      "\u001B[0;32m~/occam/invisible-map-generation/map_processing/graph_manager.py\u001B[0m in \u001B[0;36mprocess_maps\u001B[0;34m(self, pattern, visualize, upload, compare, fixed_vertices, obs_chi2_filter)\u001B[0m\n\u001B[1;32m    142\u001B[0m         \u001B[0;32mfor\u001B[0m \u001B[0mmap_info\u001B[0m \u001B[0;32min\u001B[0m \u001B[0mmatching_maps\u001B[0m\u001B[0;34m:\u001B[0m\u001B[0;34m\u001B[0m\u001B[0;34m\u001B[0m\u001B[0m\n\u001B[1;32m    143\u001B[0m             \u001B[0;32mif\u001B[0m \u001B[0mcompare\u001B[0m\u001B[0;34m:\u001B[0m\u001B[0;34m\u001B[0m\u001B[0;34m\u001B[0m\u001B[0m\n\u001B[0;32m--> 144\u001B[0;31m                 \u001B[0;32mif\u001B[0m \u001B[0mupload\u001B[0m\u001B[0;34m:\u001B[0m\u001B[0;34m\u001B[0m\u001B[0;34m\u001B[0m\u001B[0m\n\u001B[0m\u001B[1;32m    145\u001B[0m                     \u001B[0mprint\u001B[0m\u001B[0;34m(\u001B[0m\u001B[0;34m\"Warning: Ignoring True upload argument because comparing graphs\"\u001B[0m\u001B[0;34m)\u001B[0m\u001B[0;34m\u001B[0m\u001B[0;34m\u001B[0m\u001B[0m\n\u001B[1;32m    146\u001B[0m                 \u001B[0mself\u001B[0m\u001B[0;34m.\u001B[0m\u001B[0mcompare_weights\u001B[0m\u001B[0;34m(\u001B[0m\u001B[0mmap_info\u001B[0m\u001B[0;34m,\u001B[0m \u001B[0mvisualize\u001B[0m\u001B[0;34m)\u001B[0m\u001B[0;34m\u001B[0m\u001B[0;34m\u001B[0m\u001B[0m\n",
      "\u001B[0;31mAttributeError\u001B[0m: 'NoneType' object has no attribute 'find_maps'"
     ]
    }
   ],
   "source": [
    "graph_manager.pso = PrescalingOptEnum.USE_SBA\n",
    "graph_manager.selected_weights = 0\n",
    "graph_manager.process_maps(map_pattern, visualize=visualize, compare=True)"
   ]
  },
  {
   "cell_type": "markdown",
   "metadata": {
    "pycharm": {
     "name": "#%% md\n"
    }
   },
   "source": [
    "##### Prioritizing odometry nodes"
   ]
  },
  {
   "cell_type": "code",
   "execution_count": null,
   "metadata": {
    "pycharm": {
     "name": "#%%\n"
    }
   },
   "outputs": [],
   "source": [
    "graph_manager.pso = PrescalingOptEnum.USE_SBA\n",
    "graph_manager.selected_weights = 1\n",
    "graph_manager.process_maps(map_pattern, visualize=visualize, compare=True)"
   ]
  },
  {
   "cell_type": "markdown",
   "metadata": {
    "pycharm": {
     "name": "#%% md\n"
    }
   },
   "source": [
    "##### Prioritizing tag weights"
   ]
  },
  {
   "cell_type": "code",
   "execution_count": null,
   "metadata": {
    "pycharm": {
     "name": "#%%\n"
    }
   },
   "outputs": [],
   "source": [
    "graph_manager.pso = PrescalingOptEnum.USE_SBA\n",
    "graph_manager.selected_weights = 2\n",
    "graph_manager.process_maps(map_pattern, visualize=visualize, compare=True)"
   ]
  },
  {
   "cell_type": "markdown",
   "metadata": {
    "pycharm": {
     "name": "#%% md\n"
    }
   },
   "source": [
    "##### New weights"
   ]
  },
  {
   "cell_type": "code",
   "execution_count": null,
   "metadata": {
    "pycharm": {
     "name": "#%%\n"
    }
   },
   "outputs": [],
   "source": [
    "graph_manager.pso = PrescalingOptEnum.USE_SBA\n",
    "graph_manager.selected_weights=3\n",
    "graph_manager.process_maps(map_pattern, visualize=visualize, compare=True)"
   ]
  },
  {
   "cell_type": "markdown",
   "metadata": {
    "pycharm": {
     "name": "#%% md\n"
    }
   },
   "source": [
    "#### Full Covariance Prescaling\n",
    "\n",
    "##### Default weights"
   ]
  },
  {
   "cell_type": "code",
   "execution_count": null,
   "metadata": {
    "pycharm": {
     "name": "#%%\n"
    }
   },
   "outputs": [],
   "source": [
    "graph_manager.pso = PrescalingOptEnum.FULL_COV\n",
    "graph_manager.selected_weights = 0\n",
    "graph_manager.process_maps(map_pattern, visualize=visualize, compare=True)"
   ]
  },
  {
   "cell_type": "markdown",
   "metadata": {
    "pycharm": {
     "name": "#%% md\n"
    }
   },
   "source": [
    "##### Prioritizing odometry nodes"
   ]
  },
  {
   "cell_type": "code",
   "execution_count": null,
   "metadata": {
    "pycharm": {
     "name": "#%%\n"
    }
   },
   "outputs": [],
   "source": [
    "graph_manager.pso = PrescalingOptEnum.FULL_COV\n",
    "graph_manager.selected_weights = 1\n",
    "graph_manager.process_maps(map_pattern, visualize=visualize, compare=True)"
   ]
  },
  {
   "cell_type": "markdown",
   "metadata": {
    "pycharm": {
     "name": "#%% md\n"
    }
   },
   "source": [
    "##### Prioritizing tag weights"
   ]
  },
  {
   "cell_type": "code",
   "execution_count": null,
   "metadata": {
    "pycharm": {
     "name": "#%%\n"
    }
   },
   "outputs": [],
   "source": [
    "graph_manager.pso = PrescalingOptEnum.FULL_COV\n",
    "graph_manager.selected_weights = 2\n",
    "graph_manager.process_maps(map_pattern, visualize=visualize, compare=True)"
   ]
  },
  {
   "cell_type": "markdown",
   "metadata": {
    "pycharm": {
     "name": "#%% md\n"
    }
   },
   "source": [
    "##### New weights"
   ]
  },
  {
   "cell_type": "code",
   "execution_count": null,
   "metadata": {
    "pycharm": {
     "name": "#%%\n"
    }
   },
   "outputs": [],
   "source": [
    "graph_manager.pso = PrescalingOptEnum.FULL_COV\n",
    "graph_manager.selected_weights = 3\n",
    "graph_manager.process_maps(map_pattern, visualize=visualize, compare=True)"
   ]
  },
  {
   "cell_type": "markdown",
   "metadata": {
    "pycharm": {
     "name": "#%% md\n"
    }
   },
   "source": [
    "#### Diagonal Covariance Prescaling\n",
    "\n",
    "##### Default weights"
   ]
  },
  {
   "cell_type": "code",
   "execution_count": null,
   "metadata": {
    "pycharm": {
     "name": "#%%\n"
    }
   },
   "outputs": [],
   "source": [
    "graph_manager.pso = PrescalingOptEnum.DIAG_COV\n",
    "graph_manager.selected_weights = 0\n",
    "graph_manager.process_maps(map_pattern, visualize=visualize, compare=True)"
   ]
  },
  {
   "cell_type": "markdown",
   "metadata": {
    "pycharm": {
     "name": "#%% md\n"
    }
   },
   "source": [
    "##### Prioritizing odometry nodes"
   ]
  },
  {
   "cell_type": "code",
   "execution_count": null,
   "metadata": {
    "pycharm": {
     "name": "#%%\n"
    }
   },
   "outputs": [],
   "source": [
    "graph_manager.pso = PrescalingOptEnum.DIAG_COV\n",
    "graph_manager.selected_weights = 1\n",
    "graph_manager.process_maps(map_pattern, visualize=visualize, compare=True)"
   ]
  },
  {
   "cell_type": "markdown",
   "metadata": {
    "pycharm": {
     "name": "#%% md\n"
    }
   },
   "source": [
    "##### Prioritizing tag weights"
   ]
  },
  {
   "cell_type": "code",
   "execution_count": null,
   "metadata": {
    "pycharm": {
     "name": "#%%\n"
    }
   },
   "outputs": [],
   "source": [
    "graph_manager.pso = PrescalingOptEnum.DIAG_COV\n",
    "graph_manager.selected_weights = 2\n",
    "graph_manager.process_maps(map_pattern, visualize=visualize, compare=True)"
   ]
  },
  {
   "cell_type": "markdown",
   "metadata": {
    "pycharm": {
     "name": "#%% md\n"
    }
   },
   "source": [
    "##### New weights"
   ]
  },
  {
   "cell_type": "code",
   "execution_count": null,
   "metadata": {
    "pycharm": {
     "name": "#%%\n"
    }
   },
   "outputs": [],
   "source": [
    "graph_manager.pso = PrescalingOptEnum.DIAG_COV\n",
    "graph_manager.selected_weights = 3\n",
    "graph_manager.process_maps(map_pattern, visualize=visualize, compare=True)"
   ]
  },
  {
   "cell_type": "markdown",
   "metadata": {
    "pycharm": {
     "name": "#%% md\n"
    }
   },
   "source": [
    "#### Identity Prescaling\n",
    "\n",
    "##### Default weights"
   ]
  },
  {
   "cell_type": "code",
   "execution_count": null,
   "metadata": {
    "pycharm": {
     "name": "#%%\n"
    }
   },
   "outputs": [],
   "source": [
    "graph_manager.pso = PrescalingOptEnum.ONES\n",
    "graph_manager.selected_weights = 0\n",
    "graph_manager.process_maps(map_pattern, visualize=visualize, compare=True)"
   ]
  },
  {
   "cell_type": "markdown",
   "metadata": {
    "pycharm": {
     "name": "#%% md\n"
    }
   },
   "source": [
    "##### Prioritizing odometry nodes"
   ]
  },
  {
   "cell_type": "code",
   "execution_count": null,
   "metadata": {
    "pycharm": {
     "name": "#%%\n"
    }
   },
   "outputs": [],
   "source": [
    "graph_manager.pso = PrescalingOptEnum.ONES\n",
    "graph_manager.selected_weights = 1\n",
    "graph_manager.process_maps(map_pattern, visualize=visualize, compare=True)"
   ]
  },
  {
   "cell_type": "markdown",
   "metadata": {
    "pycharm": {
     "name": "#%% md\n"
    }
   },
   "source": [
    "##### Prioritizing tag weights"
   ]
  },
  {
   "cell_type": "code",
   "execution_count": null,
   "metadata": {
    "pycharm": {
     "name": "#%%\n"
    }
   },
   "outputs": [],
   "source": [
    "graph_manager.pso = PrescalingOptEnum.ONES\n",
    "graph_manager.selected_weights = 2\n",
    "graph_manager.process_maps(map_pattern, visualize=visualize, compare=True)"
   ]
  },
  {
   "cell_type": "markdown",
   "metadata": {
    "pycharm": {
     "name": "#%% md\n"
    }
   },
   "source": [
    "##### New weights"
   ]
  },
  {
   "cell_type": "code",
   "execution_count": null,
   "metadata": {
    "pycharm": {
     "name": "#%%\n"
    }
   },
   "outputs": [],
   "source": [
    "graph_manager.pso = PrescalingOptEnum.ONES\n",
    "graph_manager.selected_weights = 3\n",
    "graph_manager.process_maps(map_pattern, visualize=visualize, compare=True)"
   ]
  },
  {
   "cell_type": "markdown",
   "metadata": {
    "pycharm": {
     "name": "#%% md\n"
    }
   },
   "source": [
    "#### Lone Graph Optimization\n",
    "\n",
    "*(i.e., non-comparative optimization routine)*\n",
    "\n",
    "#### SBA\n",
    "\n",
    "##### Default weights"
   ]
  },
  {
   "cell_type": "code",
   "execution_count": null,
   "metadata": {
    "pycharm": {
     "name": "#%%\n"
    }
   },
   "outputs": [],
   "source": [
    "graph_manager.pso = PrescalingOptEnum.USE_SBA\n",
    "graph_manager.selected_weights = 0\n",
    "graph_manager.process_maps(map_pattern, visualize=visualize, compare=False)"
   ]
  },
  {
   "cell_type": "markdown",
   "metadata": {
    "pycharm": {
     "name": "#%% md\n"
    }
   },
   "source": [
    "##### Prioritizing odometry nodes"
   ]
  },
  {
   "cell_type": "code",
   "execution_count": null,
   "metadata": {
    "pycharm": {
     "name": "#%%\n"
    }
   },
   "outputs": [],
   "source": [
    "graph_manager.pso = PrescalingOptEnum.USE_SBA\n",
    "graph_manager.selected_weights = 1\n",
    "graph_manager.process_maps(map_pattern, visualize=visualize, compare=False)"
   ]
  },
  {
   "cell_type": "markdown",
   "metadata": {
    "pycharm": {
     "name": "#%% md\n"
    }
   },
   "source": [
    "##### Prioritizing tag weights"
   ]
  },
  {
   "cell_type": "code",
   "execution_count": null,
   "metadata": {
    "pycharm": {
     "name": "#%%\n"
    }
   },
   "outputs": [],
   "source": [
    "graph_manager.pso = PrescalingOptEnum.USE_SBA\n",
    "graph_manager.selected_weights = 2\n",
    "graph_manager.process_maps(map_pattern, visualize=visualize, compare=False)"
   ]
  },
  {
   "cell_type": "markdown",
   "metadata": {
    "pycharm": {
     "name": "#%% md\n"
    }
   },
   "source": [
    "##### New weights"
   ]
  },
  {
   "cell_type": "code",
   "execution_count": null,
   "metadata": {
    "pycharm": {
     "name": "#%%\n"
    }
   },
   "outputs": [],
   "source": [
    "graph_manager.pso = PrescalingOptEnum.USE_SBA\n",
    "graph_manager.selected_weights = 3\n",
    "graph_manager.process_maps(map_pattern, visualize=visualize, compare=False)"
   ]
  },
  {
   "cell_type": "markdown",
   "metadata": {
    "pycharm": {
     "name": "#%% md\n"
    }
   },
   "source": [
    "#### Full Covariance Prescaling\n",
    "\n",
    "##### Default weights"
   ]
  },
  {
   "cell_type": "code",
   "execution_count": null,
   "metadata": {
    "pycharm": {
     "name": "#%%\n"
    }
   },
   "outputs": [],
   "source": [
    "graph_manager.pso = PrescalingOptEnum.FULL_COV\n",
    "graph_manager.selected_weights = 0\n",
    "graph_manager.process_maps(map_pattern, visualize=visualize, compare=False)"
   ]
  },
  {
   "cell_type": "markdown",
   "metadata": {
    "pycharm": {
     "name": "#%% md\n"
    }
   },
   "source": [
    "##### Prioritizing odometry nodes"
   ]
  },
  {
   "cell_type": "code",
   "execution_count": null,
   "metadata": {
    "pycharm": {
     "name": "#%%\n"
    }
   },
   "outputs": [],
   "source": [
    "graph_manager.pso = PrescalingOptEnum.FULL_COV\n",
    "graph_manager.selected_weights = 1\n",
    "graph_manager.process_maps(map_pattern, visualize=visualize, compare=False)"
   ]
  },
  {
   "cell_type": "markdown",
   "metadata": {
    "pycharm": {
     "name": "#%% md\n"
    }
   },
   "source": [
    "##### Prioritizing tag weights"
   ]
  },
  {
   "cell_type": "code",
   "execution_count": null,
   "metadata": {
    "pycharm": {
     "name": "#%%\n"
    }
   },
   "outputs": [],
   "source": [
    "graph_manager.pso = PrescalingOptEnum.FULL_COV\n",
    "graph_manager.selected_weights = 2\n",
    "graph_manager.process_maps(map_pattern, visualize=visualize, compare=False)"
   ]
  },
  {
   "cell_type": "markdown",
   "metadata": {
    "pycharm": {
     "name": "#%% md\n"
    }
   },
   "source": [
    "##### New weights"
   ]
  },
  {
   "cell_type": "code",
   "execution_count": null,
   "metadata": {
    "pycharm": {
     "name": "#%%\n"
    }
   },
   "outputs": [],
   "source": [
    "graph_manager.pso = PrescalingOptEnum.FULL_COV\n",
    "graph_manager.selected_weights = 3\n",
    "graph_manager.process_maps(map_pattern, visualize=visualize, compare=False)"
   ]
  },
  {
   "cell_type": "markdown",
   "metadata": {
    "pycharm": {
     "name": "#%% md\n"
    }
   },
   "source": [
    "#### Diagonal Covariance Prescaling\n",
    "\n",
    "##### Default weights"
   ]
  },
  {
   "cell_type": "code",
   "execution_count": null,
   "metadata": {
    "pycharm": {
     "name": "#%%\n"
    }
   },
   "outputs": [],
   "source": [
    "graph_manager.pso = PrescalingOptEnum.DIAG_COV\n",
    "graph_manager.selected_weights = 0\n",
    "graph_manager.process_maps(map_pattern, visualize=visualize, compare=False)"
   ]
  },
  {
   "cell_type": "markdown",
   "metadata": {
    "pycharm": {
     "name": "#%% md\n"
    }
   },
   "source": [
    "##### Prioritizing odometry nodes"
   ]
  },
  {
   "cell_type": "code",
   "execution_count": null,
   "metadata": {
    "pycharm": {
     "name": "#%%\n"
    }
   },
   "outputs": [],
   "source": [
    "graph_manager.pso = PrescalingOptEnum.DIAG_COV\n",
    "graph_manager.selected_weights = 1\n",
    "graph_manager.process_maps(map_pattern, visualize=visualize, compare=False)"
   ]
  },
  {
   "cell_type": "markdown",
   "metadata": {
    "pycharm": {
     "name": "#%% md\n"
    }
   },
   "source": [
    "##### Prioritizing tag weights"
   ]
  },
  {
   "cell_type": "code",
   "execution_count": null,
   "metadata": {
    "pycharm": {
     "name": "#%%\n"
    }
   },
   "outputs": [],
   "source": [
    "graph_manager.pso = PrescalingOptEnum.DIAG_COV\n",
    "graph_manager.selected_weights = 2\n",
    "graph_manager.process_maps(map_pattern, visualize=visualize, compare=False)"
   ]
  },
  {
   "cell_type": "markdown",
   "metadata": {
    "pycharm": {
     "name": "#%% md\n"
    }
   },
   "source": [
    "##### New weights"
   ]
  },
  {
   "cell_type": "code",
   "execution_count": null,
   "metadata": {
    "pycharm": {
     "name": "#%%\n"
    }
   },
   "outputs": [],
   "source": [
    "graph_manager.pso = PrescalingOptEnum.DIAG_COV\n",
    "graph_manager.selected_weights = 3\n",
    "graph_manager.process_maps(map_pattern, visualize=visualize, compare=False)"
   ]
  },
  {
   "cell_type": "markdown",
   "metadata": {
    "pycharm": {
     "name": "#%% md\n"
    }
   },
   "source": [
    "#### Identity Prescaling\n",
    "\n",
    "##### Default weights"
   ]
  },
  {
   "cell_type": "code",
   "execution_count": null,
   "metadata": {
    "pycharm": {
     "name": "#%%\n"
    }
   },
   "outputs": [],
   "source": [
    "graph_manager.pso = PrescalingOptEnum.ONES\n",
    "graph_manager.selected_weights = 0\n",
    "graph_manager.process_maps(map_pattern, visualize=visualize, compare=False)"
   ]
  },
  {
   "cell_type": "markdown",
   "metadata": {
    "pycharm": {
     "name": "#%% md\n"
    }
   },
   "source": [
    "##### Prioritizing odometry nodes"
   ]
  },
  {
   "cell_type": "code",
   "execution_count": null,
   "metadata": {
    "pycharm": {
     "name": "#%%\n"
    }
   },
   "outputs": [],
   "source": [
    "graph_manager.pso = PrescalingOptEnum.ONES\n",
    "graph_manager.selected_weights = 1\n",
    "graph_manager.process_maps(map_pattern, visualize=visualize, compare=False)"
   ]
  },
  {
   "cell_type": "markdown",
   "metadata": {
    "pycharm": {
     "name": "#%% md\n"
    }
   },
   "source": [
    "##### Prioritizing tag weights"
   ]
  },
  {
   "cell_type": "code",
   "execution_count": null,
   "metadata": {
    "pycharm": {
     "name": "#%%\n"
    }
   },
   "outputs": [],
   "source": [
    "graph_manager.pso = PrescalingOptEnum.ONES\n",
    "graph_manager.selected_weights = 2\n",
    "graph_manager.process_maps(map_pattern, visualize=visualize, compare=False)"
   ]
  },
  {
   "cell_type": "markdown",
   "metadata": {
    "pycharm": {
     "name": "#%% md\n"
    }
   },
   "source": [
    "##### New weights"
   ]
  },
  {
   "cell_type": "code",
   "execution_count": null,
   "metadata": {
    "pycharm": {
     "name": "#%%\n"
    }
   },
   "outputs": [],
   "source": [
    "graph_manager.pso = PrescalingOptEnum.ONES\n",
    "graph_manager.selected_weights = 3\n",
    "graph_manager.process_maps(map_pattern, visualize=visualize, compare=False)"
   ]
  }
 ],
 "metadata": {
  "kernelspec": {
   "display_name": "Python 3",
   "language": "python",
   "name": "python3"
  },
  "language_info": {
   "codemirror_mode": {
    "name": "ipython",
    "version": 3
   },
   "file_extension": ".py",
   "mimetype": "text/x-python",
   "name": "python",
   "nbconvert_exporter": "python",
   "pygments_lexer": "ipython3",
   "version": "3.8.5"
  }
 },
 "nbformat": 4,
 "nbformat_minor": 1
}